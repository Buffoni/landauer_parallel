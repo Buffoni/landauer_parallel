{
 "cells": [
  {
   "cell_type": "code",
   "execution_count": 10,
   "metadata": {
    "id": "l5fr1mUoa1uc"
   },
   "outputs": [],
   "source": [
    "import numpy as np\n",
    "import matplotlib.pyplot as plt\n",
    "import pickle\n",
    "from config import *"
   ]
  },
  {
   "cell_type": "code",
   "execution_count": 11,
   "metadata": {
    "pycharm": {
     "name": "#%%\n"
    }
   },
   "outputs": [],
   "source": [
    "num_samples = config['n_samples']\n",
    "h_max = config['h_max']\n",
    "n_steps = config['n_steps']\n",
    "T = config['temp']"
   ]
  },
  {
   "cell_type": "code",
   "execution_count": 14,
   "metadata": {
    "id": "TiS7QnTfbBVN",
    "pycharm": {
     "name": "#%%\n"
    }
   },
   "outputs": [],
   "source": [
    "# take a single N value as an example\n",
    "N = 4\n",
    "filename = 'samples_' + str(N) + '.pkl'\n",
    "with open(filename, 'rb') as f:\n",
    "    W, mag_trajectories, M = pickle.load(f)"
   ]
  },
  {
   "cell_type": "code",
   "execution_count": 18,
   "metadata": {
    "pycharm": {
     "name": "#%%\n"
    }
   },
   "outputs": [
    {
     "name": "stdout",
     "output_type": "stream",
     "text": [
      "\n",
      "Average Work / Tlog(2):  10.985030971459961\n",
      "Average Normalized Magnetization:  -0.975209375\n",
      "Average exponentiated work (Jarzynski):  0.5463254825948742\n"
     ]
    },
    {
     "data": {
      "image/png": "[encoded data removed]",
      "text/plain": [
       "<Figure size 432x288 with 1 Axes>"
      ]
     },
     "metadata": {
      "needs_background": "light"
     },
     "output_type": "display_data"
    }
   ],
   "source": [
    "print('')\n",
    "print('Average Work / Tlog(2): ', np.mean(W)/(T*np.log(2)))\n",
    "print('Average Normalized Magnetization: ', M/(W.shape[0]*N*N))\n",
    "print('Average exponentiated work (Jarzynski): ', np.mean(np.exp(-np.array(W)/T)))\n",
    "\n",
    "plt.hist(W, bins=500) # best automatic binning bins='doane'\n",
    "plt.xlabel('W')\n",
    "plt.ylabel('counts')\n",
    "plt.title('Work distribution over {0} realizations'.format(W.shape[0]))\n",
    "plt.show()"
   ]
  },
  {
   "cell_type": "code",
   "execution_count": null,
   "metadata": {},
   "outputs": [],
   "source": []
  }
 ],
 "metadata": {
  "colab": {
   "collapsed_sections": [],
   "name": "ParallelLandauer.ipynb",
   "provenance": []
  },
  "kernelspec": {
   "display_name": "Python 3",
   "language": "python",
   "name": "python3"
  },
  "language_info": {
   "codemirror_mode": {
    "name": "ipython",
    "version": 3
   },
   "file_extension": ".py",
   "mimetype": "text/x-python",
   "name": "python",
   "nbconvert_exporter": "python",
   "pygments_lexer": "ipython3",
   "version": "3.9.1"
  },
  "pycharm": {
   "stem_cell": {
    "cell_type": "raw",
    "metadata": {
     "collapsed": false
    },
    "source": []
   }
  }
 },
 "nbformat": 4,
 "nbformat_minor": 1
}