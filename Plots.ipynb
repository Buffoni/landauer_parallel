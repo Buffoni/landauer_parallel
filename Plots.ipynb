{
 "nbformat": 4,
 "nbformat_minor": 0,
 "metadata": {
  "colab": {
   "name": "ParallelLandauer.ipynb",
   "provenance": [],
   "collapsed_sections": []
  },
  "kernelspec": {
   "name": "python3",
   "display_name": "Python 3"
  },
  "pycharm": {
   "stem_cell": {
    "cell_type": "raw",
    "source": [],
    "metadata": {
     "collapsed": false
    }
   }
  }
 },
 "cells": [
  {
   "cell_type": "code",
   "metadata": {
    "id": "l5fr1mUoa1uc"
   },
   "source": [
    "import numpy as np\n",
    "import matplotlib.pyplot as plt\n",
    "import pickle\n",
    "from ising import Ising\n",
    "from utils import configPlot\n",
    "from config import *"
   ],
   "execution_count": 7,
   "outputs": []
  },
  {
   "cell_type": "code",
   "execution_count": null,
   "outputs": [],
   "source": [
    "num_samples = config['n_samples']\n",
    "h_max = config['h_max']\n",
    "n_steps = config['n_steps']\n",
    "T = config['temp']"
   ],
   "metadata": {
    "collapsed": false,
    "pycharm": {
     "name": "#%%\n"
    }
   }
  },
  {
   "cell_type": "code",
   "metadata": {
    "id": "TiS7QnTfbBVN",
    "pycharm": {
     "name": "#%%\n"
    }
   },
   "source": [
    "N = 2\n",
    "filename = 'samples_' + str(N) + '.pkl'\n",
    "with open(filename, 'rb') as f:\n",
    "  W, mag_trajectories, M = pickle.load(f)"
   ],
   "execution_count": 24,
   "outputs": []
  },
  {
   "cell_type": "code",
   "execution_count": null,
   "outputs": [],
   "source": [
    "print('')\n",
    "print('Average Work / Tlog(2): ', np.mean(W)/(T*np.log(2)))\n",
    "print('Average Normalized Magnetization: ', M/(num_samples*N*N))\n",
    "print('Jarzynski (global average): ', np.mean(np.exp(-np.array(W)/T)))\n",
    "\n",
    "plt.hist(W, density=True, bins=500) # best automatic binning bins='doane'\n",
    "plt.title('Work distribution over {0} realizations'.format(num_samples))\n",
    "plt.show()\n"
   ],
   "metadata": {
    "collapsed": false,
    "pycharm": {
     "name": "#%%\n"
    }
   }
  }
 ]
}