{
  "nbformat": 4,
  "nbformat_minor": 0,
  "metadata": {
    "colab": {
      "name": "ParallelLandauer.ipynb",
      "provenance": [],
      "collapsed_sections": []
    },
    "kernelspec": {
      "name": "python3",
      "display_name": "Python 3"
    }
  },
  "cells": [
    {
      "cell_type": "code",
      "metadata": {
        "id": "l5fr1mUoa1uc"
      },
      "source": [
        "import numpy as np\n",
        "from numpy.random import rand\n",
        "import random\n",
        "import matplotlib.pyplot as plt\n",
        "from numba import int32, int64, float32\n",
        "from numba.types import List\n",
        "from numba import jitclass, jit, njit, prange"
      ],
      "execution_count": 7,
      "outputs": []
    },
    {
      "cell_type": "code",
      "metadata": {
        "id": "TiS7QnTfbBVN"
      },
      "source": [
        "spec = [\n",
        "    ('N', int32),\n",
        "    ('T', float32),\n",
        "    ('J', float32),\n",
        "    ('h', float32),\n",
        "    ('time', int32),   \n",
        "    ('config', List(List(int64))),\n",
        "]\n",
        "\n",
        "@jitclass(spec)\n",
        "class Ising():\n",
        "  ''' Simulating the 2D Ising model '''\n",
        "  def __init__(self, N, temp, J , h , config):\n",
        "    self.N = N\n",
        "    self.T = temp\n",
        "    self.J = J\n",
        "    self.h = h\n",
        "    self.time = 0\n",
        "    self.config = config\n",
        "\n",
        "  def energy(self):\n",
        "    '''Energy of a given configuration'''\n",
        "    energy = 0\n",
        "    for i in range(len(self.config)):\n",
        "      for j in range(len(self.config)):\n",
        "        S = self.config[i][j]\n",
        "        nb = self.config[(i+1)%self.N][j] + self.config[i][(j+1)%self.N] + self.config[(i-1)%self.N][j] + self.config[i][(j-1)%self.N]\n",
        "        energy += self.J*nb*S + self.h*S\n",
        "    return energy/4\n",
        "\n",
        "  def magnetization(self):\n",
        "    '''Magnetization of a given configuration'''\n",
        "    mag = 0\n",
        "    for i in range(len(self.config)):\n",
        "      for j in range(len(self.config)):\n",
        "        mag += self.config[i][j]\n",
        "    return mag\n",
        "\n",
        "  \n",
        "  ## monte carlo moves\n",
        "  def mcmove(self):\n",
        "    ''' This is to execute the monte carlo moves using \n",
        "    Metropolis algorithm such that detailed\n",
        "    balance condition is satisified'''\n",
        "    beta = 1.0/self.T\n",
        "    for i in range(self.N):\n",
        "      for j in range(self.N):            \n",
        "        a = np.random.randint(0, self.N)\n",
        "        b = np.random.randint(0, self.N)\n",
        "        s =  self.config[a][b]\n",
        "        nb = self.config[(a+1)%self.N][b] + self.config[a][(b+1)%self.N] + self.config[(a-1)%self.N][b] + self.config[a][(b-1)%self.N]\n",
        "        cost = -2*self.J*s*nb - 2*self.h*s \n",
        "        if cost < 0 or rand() < np.exp(-cost*beta):\n",
        "          s *= -1\n",
        "        self.config[a][b] = s\n",
        "\n",
        "  def evolve(self, n_iter, h_values=None):   \n",
        "    ''' This module simulates the evolution of Ising model'''\n",
        "    magnetizations = np.zeros(n_iter)\n",
        "    for i in range(n_iter):\n",
        "      if h_values is not None:\n",
        "        self.h = h_values[i]\n",
        "      self.mcmove()\n",
        "      magnetizations[i] = self.magnetization()\n",
        "      self.time += 1\n",
        "    return magnetizations\n",
        "\n",
        "  def thermalize(self):\n",
        "    for i in range(500): \n",
        "      self.mcmove()\n",
        "\n",
        "  def reset_protocol(self, n_iter=1000, hmax=2):\n",
        "    ''' This module simulates the reset-to-one protocol'''\n",
        "    starting_h = self.h\n",
        "    #Initial state is thermalized   \n",
        "    self.thermalize()\n",
        "\n",
        "    #First control ramp\n",
        "    upward_ramp = np.linspace(starting_h, hmax, n_iter)\n",
        "    upward_m = self.evolve(n_iter, upward_ramp)\n",
        "    \n",
        "\n",
        "    #Second control ramp\n",
        "    downward_ramp = np.linspace(hmax, starting_h, n_iter)\n",
        "    downward_m = self.evolve(n_iter, downward_ramp)\n",
        "\n",
        "    h_ramp = np.concatenate((upward_ramp, downward_ramp))\n",
        "    mag_values = np.concatenate((upward_m, downward_m))\n",
        "    \n",
        "    return mag_values, h_ramp"
      ],
      "execution_count": 24,
      "outputs": []
    },
    {
      "cell_type": "code",
      "metadata": {
        "id": "QN4nVxC6bfDJ"
      },
      "source": [
        "@jit(nopython=True, fastmath=True)\n",
        "def workIntegral(mag_values, h_ramp):\n",
        "  steps = h_ramp.shape[0]-1\n",
        "  work = 0\n",
        "  for i in range(steps):\n",
        "    work += (h_ramp[i+1]-h_ramp[i])*(mag_values[i+1]+ mag_values[i])/2\n",
        "  \n",
        "  return work\n",
        "\n",
        "def configPlot(ising_obj):\n",
        "\n",
        "  ''' This modules plots the configuration of the Ising model'''\n",
        "  X, Y = np.meshgrid(range(ising_obj.N), range(ising_obj.N))\n",
        "  e = ising_obj.energy()/(ising_obj.N**2)\n",
        "  m = ising_obj.magnetization()/(ising_obj.N**2)\n",
        "  f = plt.figure(figsize=(5,5), dpi=80)\n",
        "  sp =  f.add_subplot(1, 1, 1)  \n",
        "  plt.setp(sp.get_yticklabels(), visible=False)\n",
        "  plt.setp(sp.get_xticklabels(), visible=False)      \n",
        "  plt.pcolormesh(X, Y, ising_obj.config, vmin=-1, vmax=1, cmap=plt.cm.RdBu)\n",
        "  plt.title('t={0}, E={1}, M={2}'.format(ising_obj.time,round(e,5),round(m,5))) \n",
        "  plt.axis('tight')    \n",
        "  plt.show()"
      ],
      "execution_count": 25,
      "outputs": []
    },
    {
      "cell_type": "code",
      "metadata": {
        "id": "85WnssdrenMA"
      },
      "source": [
        "@njit(parallel=True, nogil=True)\n",
        "def sampleRun(N, h_max, n_steps, T, num_samples):\n",
        "  W = []\n",
        "  mag_configs = []\n",
        "  M = 0\n",
        "  for i in prange(num_samples):\n",
        "    initial_config = [[2*random.randint(0,1)-1 for i in range(N)] for j in range(N)]\n",
        "    rm = Ising(N, T, -1, 0, initial_config)\n",
        "    mag_values, h_ramp = rm.reset_protocol(n_steps,h_max)\n",
        "    mag_configs.append(mag_values)\n",
        "    W.append(workIntegral(mag_values, h_ramp))\n",
        "    M += rm.magnetization()\n",
        "  \n",
        "  return W, mag_configs, M"
      ],
      "execution_count": 29,
      "outputs": []
    },
    {
      "cell_type": "code",
      "metadata": {
        "id": "d2NMkkKiDHOg"
      },
      "source": [
        "# Parameters\n",
        "N = 64\n",
        "num_samples = 1000\n",
        "h_max = .5\n",
        "n_steps = 200\n",
        "T = 1.5"
      ],
      "execution_count": 30,
      "outputs": []
    },
    {
      "cell_type": "code",
      "metadata": {
        "id": "6hAucXzzfm5r",
        "outputId": "f431f73e-ebec-4a23-c881-6f5b03140d61",
        "colab": {
          "base_uri": "https://localhost:8080/",
          "height": 390
        }
      },
      "source": [
        "%%time\n",
        "W, _, M = sampleRun(N, h_max, n_steps, T, num_samples)\n",
        "\n",
        "print('')\n",
        "print('Average Work / Tlog(2): ', np.mean(W)/(T*np.log(2)))\n",
        "print('Average Normalized Magnetization: ', M/(num_samples*N*N))\n",
        "print('Jarzynski (global average): ', np.mean(np.exp(-np.array(W)/T)))\n",
        "\n",
        "plt.hist(W, density=True, bins=500) # best automatic binning bins='doane'\n",
        "plt.title('Work distribution over {0} realizations'.format(num_samples))\n",
        "plt.show()"
      ],
      "execution_count": 31,
      "outputs": [
        {
          "output_type": "stream",
          "text": [
            "\n",
            "Average Work / Tlog(2):  1283.3408431144119\n",
            "Average Normalized Magnetization:  -0.98657568359375\n",
            "Jarzynski (global average):  0.101053487951121\n"
          ],
          "name": "stdout"
        },
        {
          "output_type": "display_data",
          "data": {
            "image/png": "[encoded data removed]",
            "text/plain": [
              "<Figure size 432x288 with 1 Axes>"
            ]
          },
          "metadata": {
            "tags": [],
            "needs_background": "light"
          }
        },
        {
          "output_type": "stream",
          "text": [
            "CPU times: user 26min 36s, sys: 689 ms, total: 26min 36s\n",
            "Wall time: 13min 34s\n"
          ],
          "name": "stdout"
        }
      ]
    },
    {
      "cell_type": "code",
      "metadata": {
        "id": "CSjzBt1LaDyq"
      },
      "source": [
        ""
      ],
      "execution_count": null,
      "outputs": []
    }
  ]
}